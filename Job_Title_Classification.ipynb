{
  "nbformat": 4,
  "nbformat_minor": 0,
  "metadata": {
    "colab": {
      "provenance": [],
      "toc_visible": true
    },
    "kernelspec": {
      "name": "python3",
      "display_name": "Python 3"
    },
    "language_info": {
      "name": "python"
    },
    "widgets": {
      "application/vnd.jupyter.widget-state+json": {
        "480285bad2aa4045a602f054799305a8": {
          "model_module": "@jupyter-widgets/controls",
          "model_name": "HBoxModel",
          "model_module_version": "1.5.0",
          "state": {
            "_dom_classes": [],
            "_model_module": "@jupyter-widgets/controls",
            "_model_module_version": "1.5.0",
            "_model_name": "HBoxModel",
            "_view_count": null,
            "_view_module": "@jupyter-widgets/controls",
            "_view_module_version": "1.5.0",
            "_view_name": "HBoxView",
            "box_style": "",
            "children": [
              "IPY_MODEL_cef3d9749b774480b191c0cc011a9735",
              "IPY_MODEL_9685a0445e6f4a799d08afb031b24cea",
              "IPY_MODEL_0e3326c564ae480480eeab49d72c7017"
            ],
            "layout": "IPY_MODEL_e69d12e325214d2081e4cea59dd4d46b"
          }
        },
        "cef3d9749b774480b191c0cc011a9735": {
          "model_module": "@jupyter-widgets/controls",
          "model_name": "HTMLModel",
          "model_module_version": "1.5.0",
          "state": {
            "_dom_classes": [],
            "_model_module": "@jupyter-widgets/controls",
            "_model_module_version": "1.5.0",
            "_model_name": "HTMLModel",
            "_view_count": null,
            "_view_module": "@jupyter-widgets/controls",
            "_view_module_version": "1.5.0",
            "_view_name": "HTMLView",
            "description": "",
            "description_tooltip": null,
            "layout": "IPY_MODEL_6eacaca80ea84d3fb3eef858930938d3",
            "placeholder": "​",
            "style": "IPY_MODEL_008bf0354a7f4fe38802b06a736456c1",
            "value": "100%"
          }
        },
        "9685a0445e6f4a799d08afb031b24cea": {
          "model_module": "@jupyter-widgets/controls",
          "model_name": "FloatProgressModel",
          "model_module_version": "1.5.0",
          "state": {
            "_dom_classes": [],
            "_model_module": "@jupyter-widgets/controls",
            "_model_module_version": "1.5.0",
            "_model_name": "FloatProgressModel",
            "_view_count": null,
            "_view_module": "@jupyter-widgets/controls",
            "_view_module_version": "1.5.0",
            "_view_name": "ProgressView",
            "bar_style": "success",
            "description": "",
            "description_tooltip": null,
            "layout": "IPY_MODEL_daa0f8a3913c4540aeb44b2e315b3744",
            "max": 1637304,
            "min": 0,
            "orientation": "horizontal",
            "style": "IPY_MODEL_1cf83c9e7d174f9d85fa3aaf6ab8331a",
            "value": 1637304
          }
        },
        "0e3326c564ae480480eeab49d72c7017": {
          "model_module": "@jupyter-widgets/controls",
          "model_name": "HTMLModel",
          "model_module_version": "1.5.0",
          "state": {
            "_dom_classes": [],
            "_model_module": "@jupyter-widgets/controls",
            "_model_module_version": "1.5.0",
            "_model_name": "HTMLModel",
            "_view_count": null,
            "_view_module": "@jupyter-widgets/controls",
            "_view_module_version": "1.5.0",
            "_view_name": "HTMLView",
            "description": "",
            "description_tooltip": null,
            "layout": "IPY_MODEL_f5313ed3e38c421e8345841c87c80d5a",
            "placeholder": "​",
            "style": "IPY_MODEL_a02b5863f6754ad0aa0062a5a35ba09c",
            "value": " 1637304/1637304 [00:00&lt;00:00, 1871895.75it/s]"
          }
        },
        "e69d12e325214d2081e4cea59dd4d46b": {
          "model_module": "@jupyter-widgets/base",
          "model_name": "LayoutModel",
          "model_module_version": "1.2.0",
          "state": {
            "_model_module": "@jupyter-widgets/base",
            "_model_module_version": "1.2.0",
            "_model_name": "LayoutModel",
            "_view_count": null,
            "_view_module": "@jupyter-widgets/base",
            "_view_module_version": "1.2.0",
            "_view_name": "LayoutView",
            "align_content": null,
            "align_items": null,
            "align_self": null,
            "border": null,
            "bottom": null,
            "display": null,
            "flex": null,
            "flex_flow": null,
            "grid_area": null,
            "grid_auto_columns": null,
            "grid_auto_flow": null,
            "grid_auto_rows": null,
            "grid_column": null,
            "grid_gap": null,
            "grid_row": null,
            "grid_template_areas": null,
            "grid_template_columns": null,
            "grid_template_rows": null,
            "height": null,
            "justify_content": null,
            "justify_items": null,
            "left": null,
            "margin": null,
            "max_height": null,
            "max_width": null,
            "min_height": null,
            "min_width": null,
            "object_fit": null,
            "object_position": null,
            "order": null,
            "overflow": null,
            "overflow_x": null,
            "overflow_y": null,
            "padding": null,
            "right": null,
            "top": null,
            "visibility": null,
            "width": null
          }
        },
        "6eacaca80ea84d3fb3eef858930938d3": {
          "model_module": "@jupyter-widgets/base",
          "model_name": "LayoutModel",
          "model_module_version": "1.2.0",
          "state": {
            "_model_module": "@jupyter-widgets/base",
            "_model_module_version": "1.2.0",
            "_model_name": "LayoutModel",
            "_view_count": null,
            "_view_module": "@jupyter-widgets/base",
            "_view_module_version": "1.2.0",
            "_view_name": "LayoutView",
            "align_content": null,
            "align_items": null,
            "align_self": null,
            "border": null,
            "bottom": null,
            "display": null,
            "flex": null,
            "flex_flow": null,
            "grid_area": null,
            "grid_auto_columns": null,
            "grid_auto_flow": null,
            "grid_auto_rows": null,
            "grid_column": null,
            "grid_gap": null,
            "grid_row": null,
            "grid_template_areas": null,
            "grid_template_columns": null,
            "grid_template_rows": null,
            "height": null,
            "justify_content": null,
            "justify_items": null,
            "left": null,
            "margin": null,
            "max_height": null,
            "max_width": null,
            "min_height": null,
            "min_width": null,
            "object_fit": null,
            "object_position": null,
            "order": null,
            "overflow": null,
            "overflow_x": null,
            "overflow_y": null,
            "padding": null,
            "right": null,
            "top": null,
            "visibility": null,
            "width": null
          }
        },
        "008bf0354a7f4fe38802b06a736456c1": {
          "model_module": "@jupyter-widgets/controls",
          "model_name": "DescriptionStyleModel",
          "model_module_version": "1.5.0",
          "state": {
            "_model_module": "@jupyter-widgets/controls",
            "_model_module_version": "1.5.0",
            "_model_name": "DescriptionStyleModel",
            "_view_count": null,
            "_view_module": "@jupyter-widgets/base",
            "_view_module_version": "1.2.0",
            "_view_name": "StyleView",
            "description_width": ""
          }
        },
        "daa0f8a3913c4540aeb44b2e315b3744": {
          "model_module": "@jupyter-widgets/base",
          "model_name": "LayoutModel",
          "model_module_version": "1.2.0",
          "state": {
            "_model_module": "@jupyter-widgets/base",
            "_model_module_version": "1.2.0",
            "_model_name": "LayoutModel",
            "_view_count": null,
            "_view_module": "@jupyter-widgets/base",
            "_view_module_version": "1.2.0",
            "_view_name": "LayoutView",
            "align_content": null,
            "align_items": null,
            "align_self": null,
            "border": null,
            "bottom": null,
            "display": null,
            "flex": null,
            "flex_flow": null,
            "grid_area": null,
            "grid_auto_columns": null,
            "grid_auto_flow": null,
            "grid_auto_rows": null,
            "grid_column": null,
            "grid_gap": null,
            "grid_row": null,
            "grid_template_areas": null,
            "grid_template_columns": null,
            "grid_template_rows": null,
            "height": null,
            "justify_content": null,
            "justify_items": null,
            "left": null,
            "margin": null,
            "max_height": null,
            "max_width": null,
            "min_height": null,
            "min_width": null,
            "object_fit": null,
            "object_position": null,
            "order": null,
            "overflow": null,
            "overflow_x": null,
            "overflow_y": null,
            "padding": null,
            "right": null,
            "top": null,
            "visibility": null,
            "width": null
          }
        },
        "1cf83c9e7d174f9d85fa3aaf6ab8331a": {
          "model_module": "@jupyter-widgets/controls",
          "model_name": "ProgressStyleModel",
          "model_module_version": "1.5.0",
          "state": {
            "_model_module": "@jupyter-widgets/controls",
            "_model_module_version": "1.5.0",
            "_model_name": "ProgressStyleModel",
            "_view_count": null,
            "_view_module": "@jupyter-widgets/base",
            "_view_module_version": "1.2.0",
            "_view_name": "StyleView",
            "bar_color": null,
            "description_width": ""
          }
        },
        "f5313ed3e38c421e8345841c87c80d5a": {
          "model_module": "@jupyter-widgets/base",
          "model_name": "LayoutModel",
          "model_module_version": "1.2.0",
          "state": {
            "_model_module": "@jupyter-widgets/base",
            "_model_module_version": "1.2.0",
            "_model_name": "LayoutModel",
            "_view_count": null,
            "_view_module": "@jupyter-widgets/base",
            "_view_module_version": "1.2.0",
            "_view_name": "LayoutView",
            "align_content": null,
            "align_items": null,
            "align_self": null,
            "border": null,
            "bottom": null,
            "display": null,
            "flex": null,
            "flex_flow": null,
            "grid_area": null,
            "grid_auto_columns": null,
            "grid_auto_flow": null,
            "grid_auto_rows": null,
            "grid_column": null,
            "grid_gap": null,
            "grid_row": null,
            "grid_template_areas": null,
            "grid_template_columns": null,
            "grid_template_rows": null,
            "height": null,
            "justify_content": null,
            "justify_items": null,
            "left": null,
            "margin": null,
            "max_height": null,
            "max_width": null,
            "min_height": null,
            "min_width": null,
            "object_fit": null,
            "object_position": null,
            "order": null,
            "overflow": null,
            "overflow_x": null,
            "overflow_y": null,
            "padding": null,
            "right": null,
            "top": null,
            "visibility": null,
            "width": null
          }
        },
        "a02b5863f6754ad0aa0062a5a35ba09c": {
          "model_module": "@jupyter-widgets/controls",
          "model_name": "DescriptionStyleModel",
          "model_module_version": "1.5.0",
          "state": {
            "_model_module": "@jupyter-widgets/controls",
            "_model_module_version": "1.5.0",
            "_model_name": "DescriptionStyleModel",
            "_view_count": null,
            "_view_module": "@jupyter-widgets/base",
            "_view_module_version": "1.2.0",
            "_view_name": "StyleView",
            "description_width": ""
          }
        },
        "cb3a4528bbe0488d89377cfc8f429773": {
          "model_module": "@jupyter-widgets/controls",
          "model_name": "HBoxModel",
          "model_module_version": "1.5.0",
          "state": {
            "_dom_classes": [],
            "_model_module": "@jupyter-widgets/controls",
            "_model_module_version": "1.5.0",
            "_model_name": "HBoxModel",
            "_view_count": null,
            "_view_module": "@jupyter-widgets/controls",
            "_view_module_version": "1.5.0",
            "_view_name": "HBoxView",
            "box_style": "",
            "children": [
              "IPY_MODEL_60297e6492954d16a877853747c4ab85",
              "IPY_MODEL_e03ad8e61d3b42a18a2452beb433bef9",
              "IPY_MODEL_ceaca849660747709e23698cb8234eaf"
            ],
            "layout": "IPY_MODEL_9387c7a11c5842e3a3c001a5bb7c3dfc"
          }
        },
        "60297e6492954d16a877853747c4ab85": {
          "model_module": "@jupyter-widgets/controls",
          "model_name": "HTMLModel",
          "model_module_version": "1.5.0",
          "state": {
            "_dom_classes": [],
            "_model_module": "@jupyter-widgets/controls",
            "_model_module_version": "1.5.0",
            "_model_name": "HTMLModel",
            "_view_count": null,
            "_view_module": "@jupyter-widgets/controls",
            "_view_module_version": "1.5.0",
            "_view_name": "HTMLView",
            "description": "",
            "description_tooltip": null,
            "layout": "IPY_MODEL_21820d9278614fa69eca6ccf37ddfa23",
            "placeholder": "​",
            "style": "IPY_MODEL_27798019121048fc9833461dec044a4d",
            "value": "100%"
          }
        },
        "e03ad8e61d3b42a18a2452beb433bef9": {
          "model_module": "@jupyter-widgets/controls",
          "model_name": "FloatProgressModel",
          "model_module_version": "1.5.0",
          "state": {
            "_dom_classes": [],
            "_model_module": "@jupyter-widgets/controls",
            "_model_module_version": "1.5.0",
            "_model_name": "FloatProgressModel",
            "_view_count": null,
            "_view_module": "@jupyter-widgets/controls",
            "_view_module_version": "1.5.0",
            "_view_name": "ProgressView",
            "bar_style": "success",
            "description": "",
            "description_tooltip": null,
            "layout": "IPY_MODEL_fca41a36c47648c58bfe3bc1e8565e37",
            "max": 9512053,
            "min": 0,
            "orientation": "horizontal",
            "style": "IPY_MODEL_0a4014f9f6f14caeae8c8e217cca662f",
            "value": 9512053
          }
        },
        "ceaca849660747709e23698cb8234eaf": {
          "model_module": "@jupyter-widgets/controls",
          "model_name": "HTMLModel",
          "model_module_version": "1.5.0",
          "state": {
            "_dom_classes": [],
            "_model_module": "@jupyter-widgets/controls",
            "_model_module_version": "1.5.0",
            "_model_name": "HTMLModel",
            "_view_count": null,
            "_view_module": "@jupyter-widgets/controls",
            "_view_module_version": "1.5.0",
            "_view_name": "HTMLView",
            "description": "",
            "description_tooltip": null,
            "layout": "IPY_MODEL_246e852c59004355a6162e3e298a69b6",
            "placeholder": "​",
            "style": "IPY_MODEL_a79956a35d3344158ae9dfeb687df137",
            "value": " 9512053/9512053 [00:00&lt;00:00, 45756116.17it/s]"
          }
        },
        "9387c7a11c5842e3a3c001a5bb7c3dfc": {
          "model_module": "@jupyter-widgets/base",
          "model_name": "LayoutModel",
          "model_module_version": "1.2.0",
          "state": {
            "_model_module": "@jupyter-widgets/base",
            "_model_module_version": "1.2.0",
            "_model_name": "LayoutModel",
            "_view_count": null,
            "_view_module": "@jupyter-widgets/base",
            "_view_module_version": "1.2.0",
            "_view_name": "LayoutView",
            "align_content": null,
            "align_items": null,
            "align_self": null,
            "border": null,
            "bottom": null,
            "display": null,
            "flex": null,
            "flex_flow": null,
            "grid_area": null,
            "grid_auto_columns": null,
            "grid_auto_flow": null,
            "grid_auto_rows": null,
            "grid_column": null,
            "grid_gap": null,
            "grid_row": null,
            "grid_template_areas": null,
            "grid_template_columns": null,
            "grid_template_rows": null,
            "height": null,
            "justify_content": null,
            "justify_items": null,
            "left": null,
            "margin": null,
            "max_height": null,
            "max_width": null,
            "min_height": null,
            "min_width": null,
            "object_fit": null,
            "object_position": null,
            "order": null,
            "overflow": null,
            "overflow_x": null,
            "overflow_y": null,
            "padding": null,
            "right": null,
            "top": null,
            "visibility": null,
            "width": null
          }
        },
        "21820d9278614fa69eca6ccf37ddfa23": {
          "model_module": "@jupyter-widgets/base",
          "model_name": "LayoutModel",
          "model_module_version": "1.2.0",
          "state": {
            "_model_module": "@jupyter-widgets/base",
            "_model_module_version": "1.2.0",
            "_model_name": "LayoutModel",
            "_view_count": null,
            "_view_module": "@jupyter-widgets/base",
            "_view_module_version": "1.2.0",
            "_view_name": "LayoutView",
            "align_content": null,
            "align_items": null,
            "align_self": null,
            "border": null,
            "bottom": null,
            "display": null,
            "flex": null,
            "flex_flow": null,
            "grid_area": null,
            "grid_auto_columns": null,
            "grid_auto_flow": null,
            "grid_auto_rows": null,
            "grid_column": null,
            "grid_gap": null,
            "grid_row": null,
            "grid_template_areas": null,
            "grid_template_columns": null,
            "grid_template_rows": null,
            "height": null,
            "justify_content": null,
            "justify_items": null,
            "left": null,
            "margin": null,
            "max_height": null,
            "max_width": null,
            "min_height": null,
            "min_width": null,
            "object_fit": null,
            "object_position": null,
            "order": null,
            "overflow": null,
            "overflow_x": null,
            "overflow_y": null,
            "padding": null,
            "right": null,
            "top": null,
            "visibility": null,
            "width": null
          }
        },
        "27798019121048fc9833461dec044a4d": {
          "model_module": "@jupyter-widgets/controls",
          "model_name": "DescriptionStyleModel",
          "model_module_version": "1.5.0",
          "state": {
            "_model_module": "@jupyter-widgets/controls",
            "_model_module_version": "1.5.0",
            "_model_name": "DescriptionStyleModel",
            "_view_count": null,
            "_view_module": "@jupyter-widgets/base",
            "_view_module_version": "1.2.0",
            "_view_name": "StyleView",
            "description_width": ""
          }
        },
        "fca41a36c47648c58bfe3bc1e8565e37": {
          "model_module": "@jupyter-widgets/base",
          "model_name": "LayoutModel",
          "model_module_version": "1.2.0",
          "state": {
            "_model_module": "@jupyter-widgets/base",
            "_model_module_version": "1.2.0",
            "_model_name": "LayoutModel",
            "_view_count": null,
            "_view_module": "@jupyter-widgets/base",
            "_view_module_version": "1.2.0",
            "_view_name": "LayoutView",
            "align_content": null,
            "align_items": null,
            "align_self": null,
            "border": null,
            "bottom": null,
            "display": null,
            "flex": null,
            "flex_flow": null,
            "grid_area": null,
            "grid_auto_columns": null,
            "grid_auto_flow": null,
            "grid_auto_rows": null,
            "grid_column": null,
            "grid_gap": null,
            "grid_row": null,
            "grid_template_areas": null,
            "grid_template_columns": null,
            "grid_template_rows": null,
            "height": null,
            "justify_content": null,
            "justify_items": null,
            "left": null,
            "margin": null,
            "max_height": null,
            "max_width": null,
            "min_height": null,
            "min_width": null,
            "object_fit": null,
            "object_position": null,
            "order": null,
            "overflow": null,
            "overflow_x": null,
            "overflow_y": null,
            "padding": null,
            "right": null,
            "top": null,
            "visibility": null,
            "width": null
          }
        },
        "0a4014f9f6f14caeae8c8e217cca662f": {
          "model_module": "@jupyter-widgets/controls",
          "model_name": "ProgressStyleModel",
          "model_module_version": "1.5.0",
          "state": {
            "_model_module": "@jupyter-widgets/controls",
            "_model_module_version": "1.5.0",
            "_model_name": "ProgressStyleModel",
            "_view_count": null,
            "_view_module": "@jupyter-widgets/base",
            "_view_module_version": "1.2.0",
            "_view_name": "StyleView",
            "bar_color": null,
            "description_width": ""
          }
        },
        "246e852c59004355a6162e3e298a69b6": {
          "model_module": "@jupyter-widgets/base",
          "model_name": "LayoutModel",
          "model_module_version": "1.2.0",
          "state": {
            "_model_module": "@jupyter-widgets/base",
            "_model_module_version": "1.2.0",
            "_model_name": "LayoutModel",
            "_view_count": null,
            "_view_module": "@jupyter-widgets/base",
            "_view_module_version": "1.2.0",
            "_view_name": "LayoutView",
            "align_content": null,
            "align_items": null,
            "align_self": null,
            "border": null,
            "bottom": null,
            "display": null,
            "flex": null,
            "flex_flow": null,
            "grid_area": null,
            "grid_auto_columns": null,
            "grid_auto_flow": null,
            "grid_auto_rows": null,
            "grid_column": null,
            "grid_gap": null,
            "grid_row": null,
            "grid_template_areas": null,
            "grid_template_columns": null,
            "grid_template_rows": null,
            "height": null,
            "justify_content": null,
            "justify_items": null,
            "left": null,
            "margin": null,
            "max_height": null,
            "max_width": null,
            "min_height": null,
            "min_width": null,
            "object_fit": null,
            "object_position": null,
            "order": null,
            "overflow": null,
            "overflow_x": null,
            "overflow_y": null,
            "padding": null,
            "right": null,
            "top": null,
            "visibility": null,
            "width": null
          }
        },
        "a79956a35d3344158ae9dfeb687df137": {
          "model_module": "@jupyter-widgets/controls",
          "model_name": "DescriptionStyleModel",
          "model_module_version": "1.5.0",
          "state": {
            "_model_module": "@jupyter-widgets/controls",
            "_model_module_version": "1.5.0",
            "_model_name": "DescriptionStyleModel",
            "_view_count": null,
            "_view_module": "@jupyter-widgets/base",
            "_view_module_version": "1.2.0",
            "_view_name": "StyleView",
            "description_width": ""
          }
        }
      }
    }
  },
  "cells": [
    {
      "cell_type": "markdown",
      "source": [
        "# `JobTopGun - Job Title Classification`: Kaggle Competition\n",
        "\n",
        "This notebook outlines the process followed to participate in the [JobTopGun - job title classification](https://www.kaggle.com/competitions/jobtopgun-job-title-classification/submissions). Our task is to classify the job titles into 597 occupation classes and submit them for evaluation. Competition metric is [Macro F1-score](https://towardsdatascience.com/micro-macro-weighted-averages-of-f1-score-clearly-explained-b603420b292f), which treat\n",
        "every class equally regardless of the number of their supports.\n",
        "\n",
        "Summary Report [here](https://docs.google.com/document/d/1XjDd0R8NmnWSp4_U-8EaDRIAHS3f-MD3OmTIUYJivzw/edit?usp=sharing) "
      ],
      "metadata": {
        "id": "UdbHMbva1ZzC"
      }
    },
    {
      "cell_type": "markdown",
      "source": [
        "What I have tried but not in this notebook\n",
        "- TF-IDF + Logistic Regression\n",
        "- Hierarchical classification (Classify top-level label first, then bottom level)\n",
        "- Synonyms Augmentation"
      ],
      "metadata": {
        "id": "v9gX1SrBD7ho"
      }
    },
    {
      "cell_type": "markdown",
      "source": [
        "# Set up"
      ],
      "metadata": {
        "id": "P1SVwuKztCYH"
      }
    },
    {
      "cell_type": "code",
      "source": [
        "!pip install tensorflow-text\n",
        "!pip install pythainlp\n",
        "!pip install -U pip setuptools wheel\n",
        "!pip install -U spacy\n",
        "!python -m spacy download en_core_web_sm\n",
        "!pip install python-crfsuite"
      ],
      "metadata": {
        "id": "XQgLy7CNMQXA"
      },
      "execution_count": null,
      "outputs": []
    },
    {
      "cell_type": "code",
      "source": [
        "import nltk\n",
        "nltk.download('omw-1.4') # For PythaiNLP's NER for Thai\n",
        "nltk.download('stopwords')"
      ],
      "metadata": {
        "id": "_nRnHsgGuvjO",
        "colab": {
          "base_uri": "https://localhost:8080/"
        },
        "outputId": "0df4ba77-837e-4133-c5e0-5284eb2e3516"
      },
      "execution_count": 2,
      "outputs": [
        {
          "output_type": "stream",
          "name": "stderr",
          "text": [
            "[nltk_data] Downloading package omw-1.4 to /root/nltk_data...\n",
            "[nltk_data] Downloading package stopwords to /root/nltk_data...\n",
            "[nltk_data]   Unzipping corpora/stopwords.zip.\n"
          ]
        },
        {
          "output_type": "execute_result",
          "data": {
            "text/plain": [
              "True"
            ]
          },
          "metadata": {},
          "execution_count": 2
        }
      ]
    },
    {
      "cell_type": "code",
      "source": [
        "import numpy as np\n",
        "import pandas as pd\n",
        "import matplotlib.pyplot as plt\n",
        "import re\n",
        "import regex\n",
        "from pythainlp import word_tokenize\n",
        "import joblib"
      ],
      "metadata": {
        "id": "EBJ54pbluQox"
      },
      "execution_count": 3,
      "outputs": []
    },
    {
      "cell_type": "code",
      "source": [
        "import warnings\n",
        "warnings.filterwarnings(\"ignore\", category= UserWarning)"
      ],
      "metadata": {
        "id": "w9BHmZjx-BAS"
      },
      "execution_count": 4,
      "outputs": []
    },
    {
      "cell_type": "markdown",
      "source": [
        "# Data Preprocessing"
      ],
      "metadata": {
        "id": "kdhbOI_EtJ6S"
      }
    },
    {
      "cell_type": "code",
      "source": [
        "data_df = pd.read_csv('train.csv')\n",
        "display(data_df.head())"
      ],
      "metadata": {
        "colab": {
          "base_uri": "https://localhost:8080/",
          "height": 302
        },
        "id": "sdbWDMIvtM4s",
        "outputId": "e9b3be6a-1bd2-49d4-866a-753c0dee9ce5"
      },
      "execution_count": 7,
      "outputs": [
        {
          "output_type": "display_data",
          "data": {
            "text/plain": [
              "                    job_title     occupation_group  \\\n",
              "0            ผู้แทนฝ่ายบริหาร  Top Level Executive   \n",
              "1        เภสัชกร สาขาแหลมฉบัง           Pharmacist   \n",
              "2       ครูผู้สอนวิชาสุขศึกษา              Teacher   \n",
              "3                         ATC  Air Traffic Control   \n",
              "4  Energy Monitoring Engineer          Engineering   \n",
              "\n",
              "                              occupation  occupation_group_index  \\\n",
              "0                      Executive Manager                     142   \n",
              "1                             Pharmacist                     107   \n",
              "2  Health and Physical Education Teacher                     140   \n",
              "3                    Air Traffic Control                       7   \n",
              "4                        Energy Engineer                      50   \n",
              "\n",
              "   occupation_index  \n",
              "0               211  \n",
              "1               413  \n",
              "2               276  \n",
              "3                23  \n",
              "4               195  "
            ],
            "text/html": [
              "\n",
              "  <div id=\"df-ea1e5905-067c-4395-b499-c9f3bf2bae10\">\n",
              "    <div class=\"colab-df-container\">\n",
              "      <div>\n",
              "<style scoped>\n",
              "    .dataframe tbody tr th:only-of-type {\n",
              "        vertical-align: middle;\n",
              "    }\n",
              "\n",
              "    .dataframe tbody tr th {\n",
              "        vertical-align: top;\n",
              "    }\n",
              "\n",
              "    .dataframe thead th {\n",
              "        text-align: right;\n",
              "    }\n",
              "</style>\n",
              "<table border=\"1\" class=\"dataframe\">\n",
              "  <thead>\n",
              "    <tr style=\"text-align: right;\">\n",
              "      <th></th>\n",
              "      <th>job_title</th>\n",
              "      <th>occupation_group</th>\n",
              "      <th>occupation</th>\n",
              "      <th>occupation_group_index</th>\n",
              "      <th>occupation_index</th>\n",
              "    </tr>\n",
              "  </thead>\n",
              "  <tbody>\n",
              "    <tr>\n",
              "      <th>0</th>\n",
              "      <td>ผู้แทนฝ่ายบริหาร</td>\n",
              "      <td>Top Level Executive</td>\n",
              "      <td>Executive Manager</td>\n",
              "      <td>142</td>\n",
              "      <td>211</td>\n",
              "    </tr>\n",
              "    <tr>\n",
              "      <th>1</th>\n",
              "      <td>เภสัชกร สาขาแหลมฉบัง</td>\n",
              "      <td>Pharmacist</td>\n",
              "      <td>Pharmacist</td>\n",
              "      <td>107</td>\n",
              "      <td>413</td>\n",
              "    </tr>\n",
              "    <tr>\n",
              "      <th>2</th>\n",
              "      <td>ครูผู้สอนวิชาสุขศึกษา</td>\n",
              "      <td>Teacher</td>\n",
              "      <td>Health and Physical Education Teacher</td>\n",
              "      <td>140</td>\n",
              "      <td>276</td>\n",
              "    </tr>\n",
              "    <tr>\n",
              "      <th>3</th>\n",
              "      <td>ATC</td>\n",
              "      <td>Air Traffic Control</td>\n",
              "      <td>Air Traffic Control</td>\n",
              "      <td>7</td>\n",
              "      <td>23</td>\n",
              "    </tr>\n",
              "    <tr>\n",
              "      <th>4</th>\n",
              "      <td>Energy Monitoring Engineer</td>\n",
              "      <td>Engineering</td>\n",
              "      <td>Energy Engineer</td>\n",
              "      <td>50</td>\n",
              "      <td>195</td>\n",
              "    </tr>\n",
              "  </tbody>\n",
              "</table>\n",
              "</div>\n",
              "      <button class=\"colab-df-convert\" onclick=\"convertToInteractive('df-ea1e5905-067c-4395-b499-c9f3bf2bae10')\"\n",
              "              title=\"Convert this dataframe to an interactive table.\"\n",
              "              style=\"display:none;\">\n",
              "        \n",
              "  <svg xmlns=\"http://www.w3.org/2000/svg\" height=\"24px\"viewBox=\"0 0 24 24\"\n",
              "       width=\"24px\">\n",
              "    <path d=\"M0 0h24v24H0V0z\" fill=\"none\"/>\n",
              "    <path d=\"M18.56 5.44l.94 2.06.94-2.06 2.06-.94-2.06-.94-.94-2.06-.94 2.06-2.06.94zm-11 1L8.5 8.5l.94-2.06 2.06-.94-2.06-.94L8.5 2.5l-.94 2.06-2.06.94zm10 10l.94 2.06.94-2.06 2.06-.94-2.06-.94-.94-2.06-.94 2.06-2.06.94z\"/><path d=\"M17.41 7.96l-1.37-1.37c-.4-.4-.92-.59-1.43-.59-.52 0-1.04.2-1.43.59L10.3 9.45l-7.72 7.72c-.78.78-.78 2.05 0 2.83L4 21.41c.39.39.9.59 1.41.59.51 0 1.02-.2 1.41-.59l7.78-7.78 2.81-2.81c.8-.78.8-2.07 0-2.86zM5.41 20L4 18.59l7.72-7.72 1.47 1.35L5.41 20z\"/>\n",
              "  </svg>\n",
              "      </button>\n",
              "      \n",
              "  <style>\n",
              "    .colab-df-container {\n",
              "      display:flex;\n",
              "      flex-wrap:wrap;\n",
              "      gap: 12px;\n",
              "    }\n",
              "\n",
              "    .colab-df-convert {\n",
              "      background-color: #E8F0FE;\n",
              "      border: none;\n",
              "      border-radius: 50%;\n",
              "      cursor: pointer;\n",
              "      display: none;\n",
              "      fill: #1967D2;\n",
              "      height: 32px;\n",
              "      padding: 0 0 0 0;\n",
              "      width: 32px;\n",
              "    }\n",
              "\n",
              "    .colab-df-convert:hover {\n",
              "      background-color: #E2EBFA;\n",
              "      box-shadow: 0px 1px 2px rgba(60, 64, 67, 0.3), 0px 1px 3px 1px rgba(60, 64, 67, 0.15);\n",
              "      fill: #174EA6;\n",
              "    }\n",
              "\n",
              "    [theme=dark] .colab-df-convert {\n",
              "      background-color: #3B4455;\n",
              "      fill: #D2E3FC;\n",
              "    }\n",
              "\n",
              "    [theme=dark] .colab-df-convert:hover {\n",
              "      background-color: #434B5C;\n",
              "      box-shadow: 0px 1px 3px 1px rgba(0, 0, 0, 0.15);\n",
              "      filter: drop-shadow(0px 1px 2px rgba(0, 0, 0, 0.3));\n",
              "      fill: #FFFFFF;\n",
              "    }\n",
              "  </style>\n",
              "\n",
              "      <script>\n",
              "        const buttonEl =\n",
              "          document.querySelector('#df-ea1e5905-067c-4395-b499-c9f3bf2bae10 button.colab-df-convert');\n",
              "        buttonEl.style.display =\n",
              "          google.colab.kernel.accessAllowed ? 'block' : 'none';\n",
              "\n",
              "        async function convertToInteractive(key) {\n",
              "          const element = document.querySelector('#df-ea1e5905-067c-4395-b499-c9f3bf2bae10');\n",
              "          const dataTable =\n",
              "            await google.colab.kernel.invokeFunction('convertToInteractive',\n",
              "                                                     [key], {});\n",
              "          if (!dataTable) return;\n",
              "\n",
              "          const docLinkHtml = 'Like what you see? Visit the ' +\n",
              "            '<a target=\"_blank\" href=https://colab.research.google.com/notebooks/data_table.ipynb>data table notebook</a>'\n",
              "            + ' to learn more about interactive tables.';\n",
              "          element.innerHTML = '';\n",
              "          dataTable['output_type'] = 'display_data';\n",
              "          await google.colab.output.renderOutput(dataTable, element);\n",
              "          const docLink = document.createElement('div');\n",
              "          docLink.innerHTML = docLinkHtml;\n",
              "          element.appendChild(docLink);\n",
              "        }\n",
              "      </script>\n",
              "    </div>\n",
              "  </div>\n",
              "  "
            ]
          },
          "metadata": {}
        }
      ]
    },
    {
      "cell_type": "code",
      "source": [
        "# Remove duplicates\n",
        "print(f\"Before:\\t{len(data_df)}\")\n",
        "data_df.drop_duplicates(inplace=True)\n",
        "print(f\"After:\\t{len(data_df)}\")"
      ],
      "metadata": {
        "colab": {
          "base_uri": "https://localhost:8080/"
        },
        "id": "nqW80wJtuN5G",
        "outputId": "beb9539b-ea12-43ac-89fb-40482b2913e4"
      },
      "execution_count": 8,
      "outputs": [
        {
          "output_type": "stream",
          "name": "stdout",
          "text": [
            "Before:\t8000\n",
            "After:\t6538\n"
          ]
        }
      ]
    },
    {
      "cell_type": "markdown",
      "source": [
        "# Text Preprocessing"
      ],
      "metadata": {
        "id": "aJCZ_H0tupLG"
      }
    },
    {
      "cell_type": "code",
      "source": [
        "def remove_html_tags(text):\n",
        "  html_pattern = '<.*?>'\n",
        "  return re.sub(html_pattern, '', text)\n",
        "\n",
        "def remove_punc(text):\n",
        "  punc_pattern = r\"[()!/]\"\n",
        "  return re.sub(punc_pattern, \" \", text)\n",
        "\n",
        "def contains_only_punc_num(text):\n",
        "  pattern = r\"^(?:\\p{P}|\\d)+$\"\n",
        "  return bool(regex.match(pattern, text))"
      ],
      "metadata": {
        "id": "vJIzfvUwu0a6"
      },
      "execution_count": 9,
      "outputs": []
    },
    {
      "cell_type": "code",
      "source": [
        "# Load stop words list\n",
        "from pythainlp.corpus import thai_stopwords\n",
        "from nltk.corpus import stopwords\n",
        "\n",
        "loads = list(thai_stopwords()) + stopwords.words('english')\n",
        "false_ls = [\"it\",\"d\"]\n",
        "stop_words = [word for word in loads if word not in false_ls]"
      ],
      "metadata": {
        "id": "Q4LTai73OOnt"
      },
      "execution_count": 10,
      "outputs": []
    },
    {
      "cell_type": "code",
      "source": [
        "def clean_tokens(tokens):\n",
        "    filter_list = [ \"required\",\"urgent\",\"urgenty\",\"urgently\",\"ด่วน\",\\\n",
        "                    \"position\",\"positions\",\"ตำแหน่ง\",\"อัตรา\",\"many\",\\\n",
        "                    \"จำนวน\",\"full\",\"time\", \"full-time\", \"fulltime\",\"ประจำ\",\\\n",
        "                    \"part\",\"time\",\"part-time\",\"parttime\",\"สาขา\",\"งาน\",\\\n",
        "                    \"รับสมัคร\",\"job\",\"code\",\"id\",\"k\"]\n",
        "    filter_list += stop_words\n",
        "    res = []\n",
        "    for token in tokens:\n",
        "        if not ((token.lower() in filter_list) or (contains_only_punc_num(token))):\n",
        "            res.append(token)\n",
        "    return res"
      ],
      "metadata": {
        "id": "fdxGm8esL_kV"
      },
      "execution_count": 11,
      "outputs": []
    },
    {
      "cell_type": "code",
      "source": [
        "# NER for location words detection\n",
        "from pythainlp.tag import NER\n",
        "import spacy\n",
        "\n",
        "eng_ner = spacy.load(\"en_core_web_sm\")\n",
        "thai_ner = NER(\"thainer\")"
      ],
      "metadata": {
        "colab": {
          "base_uri": "https://localhost:8080/",
          "height": 84,
          "referenced_widgets": [
            "480285bad2aa4045a602f054799305a8",
            "cef3d9749b774480b191c0cc011a9735",
            "9685a0445e6f4a799d08afb031b24cea",
            "0e3326c564ae480480eeab49d72c7017",
            "e69d12e325214d2081e4cea59dd4d46b",
            "6eacaca80ea84d3fb3eef858930938d3",
            "008bf0354a7f4fe38802b06a736456c1",
            "daa0f8a3913c4540aeb44b2e315b3744",
            "1cf83c9e7d174f9d85fa3aaf6ab8331a",
            "f5313ed3e38c421e8345841c87c80d5a",
            "a02b5863f6754ad0aa0062a5a35ba09c"
          ]
        },
        "id": "NdCYwEiwFhwY",
        "outputId": "e96bba11-7bf6-4375-b9b9-16f4326df7a5"
      },
      "execution_count": 12,
      "outputs": [
        {
          "output_type": "stream",
          "name": "stdout",
          "text": [
            "Corpus: thainer\n",
            "- Downloading: thainer 1.5\n"
          ]
        },
        {
          "output_type": "display_data",
          "data": {
            "text/plain": [
              "  0%|          | 0/1637304 [00:00<?, ?it/s]"
            ],
            "application/vnd.jupyter.widget-view+json": {
              "version_major": 2,
              "version_minor": 0,
              "model_id": "480285bad2aa4045a602f054799305a8"
            }
          },
          "metadata": {}
        }
      ]
    },
    {
      "cell_type": "code",
      "source": [
        "# Remove Location words using Name-Entity Recognition(NER) Models\n",
        "def rmv_loc_words(text, eng_ner, thai_ner):\n",
        "  # For English\n",
        "  eng_text = re.sub(r'[\\u0E00-\\u0E7F]+', '', text)\n",
        "  doc = eng_ner(eng_text)\n",
        "  for ent in doc.ents:\n",
        "    if ent.label_ in [\"GPE\",\"LOC\"]:\n",
        "      if (ent.text).lower() not in [\"visualizer\",\"media\",\"designers\",\"freelance\"]:\n",
        "        \n",
        "        text = text.replace(ent.text, '')\n",
        "\n",
        "  # For Thai\n",
        "  tags = thai_ner.tag(text, pos=False)\n",
        "  locs = [tag[0] for tag in tags if \"LOCATION\" in tag[1] if tag[0]]\n",
        "  if len(locs)==1:\n",
        "    text = text.replace(locs[0], '')\n",
        "  else:\n",
        "    for loc in locs[1:]:\n",
        "      text = text.replace(loc, '')\n",
        "  return text"
      ],
      "metadata": {
        "id": "-wszgSTSxPxN"
      },
      "execution_count": 13,
      "outputs": []
    },
    {
      "cell_type": "code",
      "source": [
        "def process_text(text, eng_ner, thai_ner):\n",
        "    # pre rules\n",
        "    text = text.strip()\n",
        "    text = re.sub(r'\\u200b', '', text)\n",
        "    text = remove_html_tags(text)\n",
        "    text = remove_punc(text)\n",
        "    text = rmv_loc_words(text, eng_ner, thai_ner)\n",
        "\n",
        "    # tokenize\n",
        "    tokens = [word.lower() for word in word_tokenize(text) if word and not re.search(pattern=r\"\\s+\", string=word)]\n",
        "    \n",
        "    # post rules\n",
        "    tokens = clean_tokens(tokens)\n",
        "    \n",
        "    # return ' '.join(tokens)\n",
        "    return tokens"
      ],
      "metadata": {
        "id": "cs_Qo6kUxO5P"
      },
      "execution_count": 14,
      "outputs": []
    },
    {
      "cell_type": "code",
      "source": [
        "# Test cases\n",
        "\n",
        "texts = ['\"Medical Doctor (Wellness Centre) - Phuket, Thailand\"', \\\n",
        "        \"เจ้า​หน้าที่​บ​ริ​การ​ลูก​ค้า\",\\\n",
        "        'QA Supervisor<br>(Job Code : QAC 0810031-2)',\\\n",
        "        \"<font color=red><b>รับสมัครด่วนมาก!!!</font color></b> STB Installation Technician (ช่างเทคนิคติดตั้งเคเบิลทีวีระบบจานดาวเทียม)\",\\\n",
        "        \"ครูประจำชั้น\",\\\n",
        "        \"เภสัชกร (Full Time/ Part Time) หลายอัตรา ไม่ต้องขึ้นเวร (ศูนย์สุขภาพและศัลยกรรมความงามครบวงจรตรัยญา)\",\\\n",
        "        '\"ครูสอนเสริมทักษะ เด็กประถม,มัธยม(PartTime) สาขา สาทร,ประชาอุทิศ หรือ เพชรเกษม (หนองแขม)\"',\\\n",
        "        ]\n",
        "for text in texts:\n",
        "  tokens = process_text(text, eng_ner, thai_ner)\n",
        "  display(\" \".join(tokens))"
      ],
      "metadata": {
        "colab": {
          "base_uri": "https://localhost:8080/",
          "height": 210,
          "referenced_widgets": [
            "cb3a4528bbe0488d89377cfc8f429773",
            "60297e6492954d16a877853747c4ab85",
            "e03ad8e61d3b42a18a2452beb433bef9",
            "ceaca849660747709e23698cb8234eaf",
            "9387c7a11c5842e3a3c001a5bb7c3dfc",
            "21820d9278614fa69eca6ccf37ddfa23",
            "27798019121048fc9833461dec044a4d",
            "fca41a36c47648c58bfe3bc1e8565e37",
            "0a4014f9f6f14caeae8c8e217cca662f",
            "246e852c59004355a6162e3e298a69b6",
            "a79956a35d3344158ae9dfeb687df137"
          ]
        },
        "id": "k53J2so3u0eX",
        "outputId": "a581eb40-4bf6-4e67-c6fc-6e81d3e12eff"
      },
      "execution_count": 15,
      "outputs": [
        {
          "output_type": "stream",
          "name": "stdout",
          "text": [
            "Corpus: pos_lst20_perceptron\n",
            "- Downloading: pos_lst20_perceptron 0.2.4\n"
          ]
        },
        {
          "output_type": "display_data",
          "data": {
            "text/plain": [
              "  0%|          | 0/9512053 [00:00<?, ?it/s]"
            ],
            "application/vnd.jupyter.widget-view+json": {
              "version_major": 2,
              "version_minor": 0,
              "model_id": "cb3a4528bbe0488d89377cfc8f429773"
            }
          },
          "metadata": {}
        },
        {
          "output_type": "display_data",
          "data": {
            "text/plain": [
              "'medical doctor wellness centre'"
            ],
            "application/vnd.google.colaboratory.intrinsic+json": {
              "type": "string"
            }
          },
          "metadata": {}
        },
        {
          "output_type": "display_data",
          "data": {
            "text/plain": [
              "'เจ้าหน้าที่ บริการ ลูกค้า'"
            ],
            "application/vnd.google.colaboratory.intrinsic+json": {
              "type": "string"
            }
          },
          "metadata": {}
        },
        {
          "output_type": "display_data",
          "data": {
            "text/plain": [
              "'qa supervisor qac'"
            ],
            "application/vnd.google.colaboratory.intrinsic+json": {
              "type": "string"
            }
          },
          "metadata": {}
        },
        {
          "output_type": "display_data",
          "data": {
            "text/plain": [
              "'stb installation technician ช่างเทคนิค ติดตั้ง เคเบิลทีวี ระบบ จานดาวเทียม'"
            ],
            "application/vnd.google.colaboratory.intrinsic+json": {
              "type": "string"
            }
          },
          "metadata": {}
        },
        {
          "output_type": "display_data",
          "data": {
            "text/plain": [
              "'ครูประจำชั้น'"
            ],
            "application/vnd.google.colaboratory.intrinsic+json": {
              "type": "string"
            }
          },
          "metadata": {}
        },
        {
          "output_type": "display_data",
          "data": {
            "text/plain": [
              "'เภสัชกร ไม่ต้อง เวร ศูนย์ สุขภาพ ศัลยกรรม ความงาม ครบวงจร ตรัย ญา'"
            ],
            "application/vnd.google.colaboratory.intrinsic+json": {
              "type": "string"
            }
          },
          "metadata": {}
        },
        {
          "output_type": "display_data",
          "data": {
            "text/plain": [
              "'ครู สอน เสริม ทักษะ เด็กประถม มัธยม สาทร เพชรเกษม'"
            ],
            "application/vnd.google.colaboratory.intrinsic+json": {
              "type": "string"
            }
          },
          "metadata": {}
        }
      ]
    },
    {
      "cell_type": "code",
      "source": [
        "# Save preprocessed data\n",
        "prep = []\n",
        "for text in data_df.job_title:\n",
        "    prep.append(\" \".join(process_text(text, eng_ner, thai_ner)))\n",
        "data_df[\"preprocessed\"] = prep\n",
        "data_df.preprocessed.to_csv(\"prep.csv\", index=False)\n",
        "data_df.to_csv(\"train_prep.csv\", index=False)"
      ],
      "metadata": {
        "id": "9ugFDpLDScVw"
      },
      "execution_count": 16,
      "outputs": []
    },
    {
      "cell_type": "markdown",
      "source": [
        "# Train-validation Split"
      ],
      "metadata": {
        "id": "NF00lmGpBfLX"
      }
    },
    {
      "cell_type": "code",
      "source": [
        "prep_df = pd.read_csv('train_prep.csv')\n",
        "prep_df.dropna(inplace=True)\n",
        "display(prep_df.head())"
      ],
      "metadata": {
        "colab": {
          "base_uri": "https://localhost:8080/",
          "height": 354
        },
        "id": "A0XpjLghBgNq",
        "outputId": "5943e71e-471e-4f4d-ed56-7e487f148b34"
      },
      "execution_count": 17,
      "outputs": [
        {
          "output_type": "display_data",
          "data": {
            "text/plain": [
              "                    job_title     occupation_group  \\\n",
              "0            ผู้แทนฝ่ายบริหาร  Top Level Executive   \n",
              "1        เภสัชกร สาขาแหลมฉบัง           Pharmacist   \n",
              "2       ครูผู้สอนวิชาสุขศึกษา              Teacher   \n",
              "3                         ATC  Air Traffic Control   \n",
              "4  Energy Monitoring Engineer          Engineering   \n",
              "\n",
              "                              occupation  occupation_group_index  \\\n",
              "0                      Executive Manager                     142   \n",
              "1                             Pharmacist                     107   \n",
              "2  Health and Physical Education Teacher                     140   \n",
              "3                    Air Traffic Control                       7   \n",
              "4                        Energy Engineer                      50   \n",
              "\n",
              "   occupation_index                preprocessed  \n",
              "0               211           ผู้แทน ฝ่ายบริหาร  \n",
              "1               413            เภสัชกร แหลมฉบัง  \n",
              "2               276     ครูผู้สอน วิชา สุขศึกษา  \n",
              "3                23                         atc  \n",
              "4               195  energy monitoring engineer  "
            ],
            "text/html": [
              "\n",
              "  <div id=\"df-2e2a1be2-a719-47ef-a906-da317ef149f7\">\n",
              "    <div class=\"colab-df-container\">\n",
              "      <div>\n",
              "<style scoped>\n",
              "    .dataframe tbody tr th:only-of-type {\n",
              "        vertical-align: middle;\n",
              "    }\n",
              "\n",
              "    .dataframe tbody tr th {\n",
              "        vertical-align: top;\n",
              "    }\n",
              "\n",
              "    .dataframe thead th {\n",
              "        text-align: right;\n",
              "    }\n",
              "</style>\n",
              "<table border=\"1\" class=\"dataframe\">\n",
              "  <thead>\n",
              "    <tr style=\"text-align: right;\">\n",
              "      <th></th>\n",
              "      <th>job_title</th>\n",
              "      <th>occupation_group</th>\n",
              "      <th>occupation</th>\n",
              "      <th>occupation_group_index</th>\n",
              "      <th>occupation_index</th>\n",
              "      <th>preprocessed</th>\n",
              "    </tr>\n",
              "  </thead>\n",
              "  <tbody>\n",
              "    <tr>\n",
              "      <th>0</th>\n",
              "      <td>ผู้แทนฝ่ายบริหาร</td>\n",
              "      <td>Top Level Executive</td>\n",
              "      <td>Executive Manager</td>\n",
              "      <td>142</td>\n",
              "      <td>211</td>\n",
              "      <td>ผู้แทน ฝ่ายบริหาร</td>\n",
              "    </tr>\n",
              "    <tr>\n",
              "      <th>1</th>\n",
              "      <td>เภสัชกร สาขาแหลมฉบัง</td>\n",
              "      <td>Pharmacist</td>\n",
              "      <td>Pharmacist</td>\n",
              "      <td>107</td>\n",
              "      <td>413</td>\n",
              "      <td>เภสัชกร แหลมฉบัง</td>\n",
              "    </tr>\n",
              "    <tr>\n",
              "      <th>2</th>\n",
              "      <td>ครูผู้สอนวิชาสุขศึกษา</td>\n",
              "      <td>Teacher</td>\n",
              "      <td>Health and Physical Education Teacher</td>\n",
              "      <td>140</td>\n",
              "      <td>276</td>\n",
              "      <td>ครูผู้สอน วิชา สุขศึกษา</td>\n",
              "    </tr>\n",
              "    <tr>\n",
              "      <th>3</th>\n",
              "      <td>ATC</td>\n",
              "      <td>Air Traffic Control</td>\n",
              "      <td>Air Traffic Control</td>\n",
              "      <td>7</td>\n",
              "      <td>23</td>\n",
              "      <td>atc</td>\n",
              "    </tr>\n",
              "    <tr>\n",
              "      <th>4</th>\n",
              "      <td>Energy Monitoring Engineer</td>\n",
              "      <td>Engineering</td>\n",
              "      <td>Energy Engineer</td>\n",
              "      <td>50</td>\n",
              "      <td>195</td>\n",
              "      <td>energy monitoring engineer</td>\n",
              "    </tr>\n",
              "  </tbody>\n",
              "</table>\n",
              "</div>\n",
              "      <button class=\"colab-df-convert\" onclick=\"convertToInteractive('df-2e2a1be2-a719-47ef-a906-da317ef149f7')\"\n",
              "              title=\"Convert this dataframe to an interactive table.\"\n",
              "              style=\"display:none;\">\n",
              "        \n",
              "  <svg xmlns=\"http://www.w3.org/2000/svg\" height=\"24px\"viewBox=\"0 0 24 24\"\n",
              "       width=\"24px\">\n",
              "    <path d=\"M0 0h24v24H0V0z\" fill=\"none\"/>\n",
              "    <path d=\"M18.56 5.44l.94 2.06.94-2.06 2.06-.94-2.06-.94-.94-2.06-.94 2.06-2.06.94zm-11 1L8.5 8.5l.94-2.06 2.06-.94-2.06-.94L8.5 2.5l-.94 2.06-2.06.94zm10 10l.94 2.06.94-2.06 2.06-.94-2.06-.94-.94-2.06-.94 2.06-2.06.94z\"/><path d=\"M17.41 7.96l-1.37-1.37c-.4-.4-.92-.59-1.43-.59-.52 0-1.04.2-1.43.59L10.3 9.45l-7.72 7.72c-.78.78-.78 2.05 0 2.83L4 21.41c.39.39.9.59 1.41.59.51 0 1.02-.2 1.41-.59l7.78-7.78 2.81-2.81c.8-.78.8-2.07 0-2.86zM5.41 20L4 18.59l7.72-7.72 1.47 1.35L5.41 20z\"/>\n",
              "  </svg>\n",
              "      </button>\n",
              "      \n",
              "  <style>\n",
              "    .colab-df-container {\n",
              "      display:flex;\n",
              "      flex-wrap:wrap;\n",
              "      gap: 12px;\n",
              "    }\n",
              "\n",
              "    .colab-df-convert {\n",
              "      background-color: #E8F0FE;\n",
              "      border: none;\n",
              "      border-radius: 50%;\n",
              "      cursor: pointer;\n",
              "      display: none;\n",
              "      fill: #1967D2;\n",
              "      height: 32px;\n",
              "      padding: 0 0 0 0;\n",
              "      width: 32px;\n",
              "    }\n",
              "\n",
              "    .colab-df-convert:hover {\n",
              "      background-color: #E2EBFA;\n",
              "      box-shadow: 0px 1px 2px rgba(60, 64, 67, 0.3), 0px 1px 3px 1px rgba(60, 64, 67, 0.15);\n",
              "      fill: #174EA6;\n",
              "    }\n",
              "\n",
              "    [theme=dark] .colab-df-convert {\n",
              "      background-color: #3B4455;\n",
              "      fill: #D2E3FC;\n",
              "    }\n",
              "\n",
              "    [theme=dark] .colab-df-convert:hover {\n",
              "      background-color: #434B5C;\n",
              "      box-shadow: 0px 1px 3px 1px rgba(0, 0, 0, 0.15);\n",
              "      filter: drop-shadow(0px 1px 2px rgba(0, 0, 0, 0.3));\n",
              "      fill: #FFFFFF;\n",
              "    }\n",
              "  </style>\n",
              "\n",
              "      <script>\n",
              "        const buttonEl =\n",
              "          document.querySelector('#df-2e2a1be2-a719-47ef-a906-da317ef149f7 button.colab-df-convert');\n",
              "        buttonEl.style.display =\n",
              "          google.colab.kernel.accessAllowed ? 'block' : 'none';\n",
              "\n",
              "        async function convertToInteractive(key) {\n",
              "          const element = document.querySelector('#df-2e2a1be2-a719-47ef-a906-da317ef149f7');\n",
              "          const dataTable =\n",
              "            await google.colab.kernel.invokeFunction('convertToInteractive',\n",
              "                                                     [key], {});\n",
              "          if (!dataTable) return;\n",
              "\n",
              "          const docLinkHtml = 'Like what you see? Visit the ' +\n",
              "            '<a target=\"_blank\" href=https://colab.research.google.com/notebooks/data_table.ipynb>data table notebook</a>'\n",
              "            + ' to learn more about interactive tables.';\n",
              "          element.innerHTML = '';\n",
              "          dataTable['output_type'] = 'display_data';\n",
              "          await google.colab.output.renderOutput(dataTable, element);\n",
              "          const docLink = document.createElement('div');\n",
              "          docLink.innerHTML = docLinkHtml;\n",
              "          element.appendChild(docLink);\n",
              "        }\n",
              "      </script>\n",
              "    </div>\n",
              "  </div>\n",
              "  "
            ]
          },
          "metadata": {}
        }
      ]
    },
    {
      "cell_type": "code",
      "source": [
        "# Prevalence -> Class Imbalance detected\n",
        "display(prep_df[\"occupation\"].value_counts())\n",
        "val_count = prep_df[\"occupation_index\"].value_counts()\n",
        "\n",
        "plt.figure(figsize=(20,5))\n",
        "plt.bar(val_count.index, val_count.values)\n",
        "plt.title(\"Prevalence\")"
      ],
      "metadata": {
        "colab": {
          "base_uri": "https://localhost:8080/",
          "height": 479
        },
        "id": "k2Wehg94FJq8",
        "outputId": "e68c1b8a-ed65-4de5-ae4e-0e1faa073fe0"
      },
      "execution_count": 18,
      "outputs": [
        {
          "output_type": "display_data",
          "data": {
            "text/plain": [
              "Sales                         192\n",
              "Administrator                 103\n",
              "Engineer                       62\n",
              "Technician                     57\n",
              "Quality Control                49\n",
              "                             ... \n",
              "Lifeguard                       3\n",
              "Personal Trainer                2\n",
              "Executive                       2\n",
              "Category Administrative         2\n",
              "Deputy Permanent Secretary      2\n",
              "Name: occupation, Length: 597, dtype: int64"
            ]
          },
          "metadata": {}
        },
        {
          "output_type": "execute_result",
          "data": {
            "text/plain": [
              "Text(0.5, 1.0, 'Prevalence')"
            ]
          },
          "metadata": {},
          "execution_count": 18
        },
        {
          "output_type": "display_data",
          "data": {
            "text/plain": [
              "<Figure size 1440x360 with 1 Axes>"
            ],
            "image/png": "[encoded data removed]"
          },
          "metadata": {
            "needs_background": "light"
          }
        }
      ]
    },
    {
      "cell_type": "code",
      "source": [
        "from sklearn.model_selection import train_test_split\n",
        "\n",
        "X_all = np.array(prep_df.preprocessed)\n",
        "y_all = np.array(prep_df.occupation_index)\n",
        "\n",
        "X_train, X_valid, y_train, y_valid = train_test_split(X_all, y_all, test_size=0.1, random_state = 99, stratify=y_all)\n",
        "X_train.shape, X_valid.shape"
      ],
      "metadata": {
        "colab": {
          "base_uri": "https://localhost:8080/"
        },
        "id": "g8Ww8JZsBsMK",
        "outputId": "2ecbb589-72e8-43fc-83f4-9690bc1621a9"
      },
      "execution_count": 19,
      "outputs": [
        {
          "output_type": "execute_result",
          "data": {
            "text/plain": [
              "((5877,), (654,))"
            ]
          },
          "metadata": {},
          "execution_count": 19
        }
      ]
    },
    {
      "cell_type": "code",
      "source": [
        "# Save train set and validate set\n",
        "data = pd.DataFrame({'texts': X_train, 'category': y_train})\n",
        "data.to_csv(\"prep_train.csv\", index=False)\n",
        "\n",
        "data = pd.DataFrame({'texts': X_valid, 'category': y_valid})\n",
        "data.to_csv(\"prep_valid.csv\", index=False)"
      ],
      "metadata": {
        "id": "jM5gaIpRCO_0"
      },
      "execution_count": 20,
      "outputs": []
    },
    {
      "cell_type": "markdown",
      "source": [
        "# Augmentation / Variation of train set"
      ],
      "metadata": {
        "id": "ijHCq2NT-wdN"
      }
    },
    {
      "cell_type": "code",
      "source": [
        "# Load train set\n",
        "Xy_train = pd.read_csv('prep_train.csv')\n",
        "X_train = Xy_train.texts\n",
        "y_train = Xy_train.category"
      ],
      "metadata": {
        "id": "1jald6Qj-x01"
      },
      "execution_count": 21,
      "outputs": []
    },
    {
      "cell_type": "markdown",
      "source": [
        "## Remove low frequency words\n",
        "- pros: remove proper noun eg. locations, organizations, ...\n",
        "- cons: also remove word that contains sentiment"
      ],
      "metadata": {
        "id": "88uTAokJLC53"
      }
    },
    {
      "cell_type": "code",
      "source": [
        "# Get tokens frequency\n",
        "vocab = []\n",
        "for text in X_train:\n",
        "    vocab += word_tokenize(text)\n",
        "tokens, counts = np.unique(vocab, return_counts=True)\n",
        "df = pd.DataFrame({'words': tokens, 'counts': counts}).sort_values(\"counts\", ascending=False)\n",
        "df.to_csv(\"tokens_counts.csv\", index=False)"
      ],
      "metadata": {
        "id": "8Keb5Pmm--Vh"
      },
      "execution_count": 24,
      "outputs": []
    },
    {
      "cell_type": "code",
      "source": [
        "min_fq = 2\n",
        "\n",
        "tokens_counts_df = pd.read_csv(\"tokens_counts.csv\")\n",
        "token_count = tokens_counts_df.set_index('words').to_dict('dict')['counts']\n",
        "\n",
        "rlf_X_train = []\n",
        "for text in X_train:\n",
        "    tokens = [word for word in word_tokenize(text) if word and not re.search(pattern=r\"\\s+\", string=word)]\n",
        "    res = []\n",
        "    for token in tokens:\n",
        "        if token_count[token]>=min_fq:\n",
        "            res.append(token)\n",
        "    if res == []:\n",
        "        res = tokens\n",
        "    rlf_X_train.append(\" \".join(res))"
      ],
      "metadata": {
        "id": "N5pCz2MBLJ_d"
      },
      "execution_count": 25,
      "outputs": []
    },
    {
      "cell_type": "code",
      "source": [
        "# Save alternate train set\n",
        "data = pd.DataFrame({'texts': rlf_X_train, 'category': y_train})\n",
        "data.to_csv(\"prep_train_rlf.csv\", index=False)"
      ],
      "metadata": {
        "id": "ydik72-XP9Va"
      },
      "execution_count": 26,
      "outputs": []
    },
    {
      "cell_type": "markdown",
      "source": [
        "## Add Occupation Mapper Class name"
      ],
      "metadata": {
        "id": "Pl_cfAnuEUwk"
      }
    },
    {
      "cell_type": "code",
      "source": [
        "# Add Occupation Mapper Class name to the data\n",
        "occ_df = pd.read_csv('occupation_mapper.csv').iloc[:-1,:]\n",
        "occ_title = []\n",
        "for text in occ_df.occupation:\n",
        "  occ_title.append(\" \".join(process_text(text, eng_ner, thai_ner)))\n",
        "aug_X_train = pd.concat([X_train, pd.Series(occ_title)], axis=0)\n",
        "aug_y_train = pd.concat([y_train, occ_df.occupation_index], axis=0)"
      ],
      "metadata": {
        "id": "AgJsN6Cu-x4M"
      },
      "execution_count": 22,
      "outputs": []
    },
    {
      "cell_type": "code",
      "source": [
        "# Save alternate train set\n",
        "data = pd.DataFrame({'texts': aug_X_train, 'category': aug_y_train})\n",
        "data.to_csv(\"prep_train_Oc.csv\", index=False)"
      ],
      "metadata": {
        "id": "vNPRSEMC--Rz"
      },
      "execution_count": 23,
      "outputs": []
    },
    {
      "cell_type": "markdown",
      "source": [
        "# Models"
      ],
      "metadata": {
        "id": "W6CIqGw_GYn9"
      }
    },
    {
      "cell_type": "code",
      "source": [
        "# Evaluation Report\n",
        "from sklearn.metrics import precision_recall_fscore_support, accuracy_score\n",
        "\n",
        "def evaluate(y, y_pred):\n",
        "  accuracy = accuracy_score(y, y_pred)\n",
        "  precision, recall, f1_score, _ = precision_recall_fscore_support(y, y_pred, average=\"macro\")\n",
        "\n",
        "  print(\"Accuracy:\", accuracy)\n",
        "  print(\"Precision:\", precision)\n",
        "  print(\"Recall:\", recall)\n",
        "  print(\"F1-score:\", f1_score)\n",
        "  return f1_score"
      ],
      "metadata": {
        "id": "lk-1e0NvH21n"
      },
      "execution_count": 27,
      "outputs": []
    },
    {
      "cell_type": "code",
      "source": [
        "# Load train set and validate set \n",
        "\n",
        "# Xy_train = pd.read_csv('prep_train.csv')\n",
        "Xy_train = pd.read_csv('prep_train_Oc.csv')\n",
        "# Xy_train = pd.read_csv('prep_train_rlf.csv')\n",
        "# Xy_train = pd.read_csv('prep_train_rlfOc.csv')\n",
        "Xy_train.dropna(inplace=True)\n",
        "Xy_valid = pd.read_csv('prep_valid.csv')\n",
        "Xy_valid.dropna(inplace=True)\n",
        "\n",
        "X_train = Xy_train.texts\n",
        "y_train = Xy_train.category\n",
        "X_valid = Xy_valid.texts\n",
        "y_valid = Xy_valid.category"
      ],
      "metadata": {
        "id": "2EMT-KEJIivM"
      },
      "execution_count": 30,
      "outputs": []
    },
    {
      "cell_type": "markdown",
      "source": [
        "## Text Encoder"
      ],
      "metadata": {
        "id": "a21sK7y6GgPS"
      }
    },
    {
      "cell_type": "markdown",
      "source": [
        "### Universal Sentence Encoder (USE)"
      ],
      "metadata": {
        "id": "MvsMb2LYG9kk"
      }
    },
    {
      "cell_type": "code",
      "source": [
        "# Load USE model that support both Thai and English\n",
        "import tensorflow.compat.v2 as tf\n",
        "import tensorflow_hub as hub\n",
        "from tensorflow_text import SentencepieceTokenizer\n",
        "\n",
        "model_url = 'https://tfhub.dev/google/universal-sentence-encoder-multilingual-large/3'\n",
        "use_model = hub.load(model_url)"
      ],
      "metadata": {
        "id": "N0UYLF91GY1h"
      },
      "execution_count": 31,
      "outputs": []
    },
    {
      "cell_type": "code",
      "source": [
        "def batch_feed(texts, batch_size=64):\n",
        "  \"\"\"Feed the text as batches to avoid an OOM problem\"\"\"\n",
        "  results = []\n",
        "  for i in range(0, len(texts), batch_size):\n",
        "    vectors = use_model(texts[i:i+batch_size])\n",
        "    vectors = vectors.numpy() # Convert from tf.Tensor to numpy array\n",
        "    results.append(vectors)\n",
        "  results = np.concatenate(results, axis=0)\n",
        "  return results"
      ],
      "metadata": {
        "id": "2zLdbKVuHlgf"
      },
      "execution_count": 32,
      "outputs": []
    },
    {
      "cell_type": "code",
      "source": [
        "enc_X_train = batch_feed(X_train)\n",
        "enc_X_valid = batch_feed(X_valid)\n",
        "\n",
        "enc_X_train.shape, y_train.shape"
      ],
      "metadata": {
        "colab": {
          "base_uri": "https://localhost:8080/"
        },
        "id": "46Co7qQpIfWn",
        "outputId": "43561c24-b512-47d2-c7ed-abc4bd5b79d5"
      },
      "execution_count": 33,
      "outputs": [
        {
          "output_type": "execute_result",
          "data": {
            "text/plain": [
              "((6473, 512), (6473,))"
            ]
          },
          "metadata": {},
          "execution_count": 33
        }
      ]
    },
    {
      "cell_type": "markdown",
      "source": [
        "## Classifier"
      ],
      "metadata": {
        "id": "JiB95vukGo_d"
      }
    },
    {
      "cell_type": "markdown",
      "source": [
        "### Logistic Regression"
      ],
      "metadata": {
        "id": "x7B4_jCXGxZs"
      }
    },
    {
      "cell_type": "code",
      "source": [
        "# Logistic Regression\n",
        "from sklearn.linear_model import LogisticRegression\n",
        "\n",
        "train = \"Oc\"\n",
        "for solver in ['lbfgs']:\n",
        "  for c in [4,6,8]:\n",
        "    print(solver, c)\n",
        "    model = LogisticRegression(C=c, solver=solver, class_weight=\"balanced\")\n",
        "\n",
        "    # Train the model\n",
        "    model.fit(enc_X_train, y_train)\n",
        "\n",
        "    # Evaluate\n",
        "    display(model.score(enc_X_train, y_train))\n",
        "    y_pred = model.predict(enc_X_valid)\n",
        "    evaluate(y_valid, y_pred)\n",
        "    \n",
        "    # Save the model\n",
        "    joblib.dump(model, f'lgr_{train}_{solver[:4]}_c{c:03d}.joblib')\n",
        "    print()"
      ],
      "metadata": {
        "colab": {
          "base_uri": "https://localhost:8080/",
          "height": 381
        },
        "id": "l63b8RcsGY31",
        "outputId": "415c3d39-5a31-4485-d1d8-4e92ed28668c"
      },
      "execution_count": 34,
      "outputs": [
        {
          "output_type": "stream",
          "name": "stdout",
          "text": [
            "lbfgs 4\n"
          ]
        },
        {
          "output_type": "display_data",
          "data": {
            "text/plain": [
              "0.8016375714506411"
            ]
          },
          "metadata": {}
        },
        {
          "output_type": "stream",
          "name": "stdout",
          "text": [
            "Accuracy: 0.6131498470948012\n",
            "Precision: 0.5530083857442348\n",
            "Recall: 0.6223303541873552\n",
            "F1-score: 0.563695717280623\n",
            "\n",
            "lbfgs 6\n"
          ]
        },
        {
          "output_type": "display_data",
          "data": {
            "text/plain": [
              "0.8342345125907616"
            ]
          },
          "metadata": {}
        },
        {
          "output_type": "stream",
          "name": "stdout",
          "text": [
            "Accuracy: 0.6162079510703364\n",
            "Precision: 0.5545540796963946\n",
            "Recall: 0.6214188221978095\n",
            "F1-score: 0.5640917026803305\n",
            "\n",
            "lbfgs 8\n"
          ]
        },
        {
          "output_type": "display_data",
          "data": {
            "text/plain": [
              "0.8532365209331068"
            ]
          },
          "metadata": {}
        },
        {
          "output_type": "stream",
          "name": "stdout",
          "text": [
            "Accuracy: 0.6192660550458715\n",
            "Precision: 0.5557063025694203\n",
            "Recall: 0.6195317190314189\n",
            "F1-score: 0.5649797815197055\n",
            "\n"
          ]
        }
      ]
    },
    {
      "cell_type": "markdown",
      "source": [
        "### Support Vector Machine (SVM)"
      ],
      "metadata": {
        "id": "l0fHfUBPG0ZF"
      }
    },
    {
      "cell_type": "code",
      "source": [
        "# SVC\n",
        "from sklearn.svm import LinearSVC\n",
        "\n",
        "train = \"Oc\"\n",
        "for c in [2,3,4]:\n",
        "    print(c)\n",
        "    model = LinearSVC(C=c, dual=False, class_weight=\"balanced\", random_state=99)\n",
        "\n",
        "    # Train the model\n",
        "    model.fit(enc_X_train, y_train)\n",
        "\n",
        "    # Evaluate\n",
        "    display(model.score(enc_X_train, y_train))\n",
        "    y_pred = model.predict(enc_X_valid)\n",
        "    evaluate(y_valid, y_pred)\n",
        "\n",
        "    # Save the model\n",
        "    joblib.dump(model, f'svc_{train}_c{c:02d}.joblib')\n",
        "    print()"
      ],
      "metadata": {
        "colab": {
          "base_uri": "https://localhost:8080/",
          "height": 381
        },
        "id": "mkd-vphGGY6K",
        "outputId": "b1790cec-c7c4-4031-b6f9-4928474ae9b3"
      },
      "execution_count": 35,
      "outputs": [
        {
          "output_type": "stream",
          "name": "stdout",
          "text": [
            "2\n"
          ]
        },
        {
          "output_type": "display_data",
          "data": {
            "text/plain": [
              "0.9100880580874401"
            ]
          },
          "metadata": {}
        },
        {
          "output_type": "stream",
          "name": "stdout",
          "text": [
            "Accuracy: 0.6146788990825688\n",
            "Precision: 0.5522999369880277\n",
            "Recall: 0.6204357775345737\n",
            "F1-score: 0.5639830480834837\n",
            "\n",
            "3\n"
          ]
        },
        {
          "output_type": "display_data",
          "data": {
            "text/plain": [
              "0.9239919666306194"
            ]
          },
          "metadata": {}
        },
        {
          "output_type": "stream",
          "name": "stdout",
          "text": [
            "Accuracy: 0.617737003058104\n",
            "Precision: 0.5515873015873016\n",
            "Recall: 0.6249089390142022\n",
            "F1-score: 0.5651991849880048\n",
            "\n",
            "4\n"
          ]
        },
        {
          "output_type": "display_data",
          "data": {
            "text/plain": [
              "0.9297080179205932"
            ]
          },
          "metadata": {}
        },
        {
          "output_type": "stream",
          "name": "stdout",
          "text": [
            "Accuracy: 0.6100917431192661\n",
            "Precision: 0.5432698412698412\n",
            "Recall: 0.6161203007518797\n",
            "F1-score: 0.5575445084016513\n",
            "\n"
          ]
        }
      ]
    },
    {
      "cell_type": "markdown",
      "source": [
        "### Deep Learning"
      ],
      "metadata": {
        "id": "UylIvVdaG5YH"
      }
    },
    {
      "cell_type": "code",
      "source": [
        "from keras.models import Sequential\n",
        "from keras.layers import Input, Dense, Dropout\n",
        "from tensorflow.keras.optimizers import Adam\n",
        "\n",
        "# Hyperparams\n",
        "num_labels = 597\n",
        "num_epochs = 20\n",
        "batch_size = 64\n",
        "USE_layer = hub.KerasLayer(\"https://tfhub.dev/google/universal-sentence-encoder-multilingual-large/3\", trainable=False)\n",
        "\n",
        "# Create the model\n",
        "model = Sequential()\n",
        "model.add(Input(shape=[], dtype=tf.string))\n",
        "model.add(USE_layer)\n",
        "model.add(Dense(512, activation='relu'))\n",
        "model.add(Dropout(0.2))\n",
        "model.add(Dense(num_labels, activation='softmax'))\n",
        "\n",
        "# Compile the model\n",
        "model.compile(optimizer=Adam(1e-3), loss='sparse_categorical_crossentropy', metrics=['accuracy'])\n",
        "model.summary()\n",
        "\n",
        "# Train the model\n",
        "model.fit(X_train, y_train, validation_data=(X_valid, y_valid), epochs=num_epochs, batch_size=batch_size)"
      ],
      "metadata": {
        "colab": {
          "base_uri": "https://localhost:8080/"
        },
        "id": "CHK7Ii7TG5oU",
        "outputId": "fc597db0-e19d-4d95-fb98-cbf538ab936d"
      },
      "execution_count": 39,
      "outputs": [
        {
          "output_type": "stream",
          "name": "stdout",
          "text": [
            "Model: \"sequential_2\"\n",
            "_________________________________________________________________\n",
            " Layer (type)                Output Shape              Param #   \n",
            "=================================================================\n",
            " keras_layer_2 (KerasLayer)  (None, 512)               85213184  \n",
            "                                                                 \n",
            " dense_4 (Dense)             (None, 512)               262656    \n",
            "                                                                 \n",
            " dropout_2 (Dropout)         (None, 512)               0         \n",
            "                                                                 \n",
            " dense_5 (Dense)             (None, 597)               306261    \n",
            "                                                                 \n",
            "=================================================================\n",
            "Total params: 85,782,101\n",
            "Trainable params: 568,917\n",
            "Non-trainable params: 85,213,184\n",
            "_________________________________________________________________\n",
            "Epoch 1/20\n",
            "102/102 [==============================] - 83s 609ms/step - loss: 6.0011 - accuracy: 0.0380 - val_loss: 5.2890 - val_accuracy: 0.0841\n",
            "Epoch 2/20\n",
            "102/102 [==============================] - 62s 612ms/step - loss: 4.6346 - accuracy: 0.1495 - val_loss: 3.8700 - val_accuracy: 0.2875\n",
            "Epoch 3/20\n",
            "102/102 [==============================] - 60s 585ms/step - loss: 3.2167 - accuracy: 0.3736 - val_loss: 2.8359 - val_accuracy: 0.4450\n",
            "Epoch 4/20\n",
            "102/102 [==============================] - 64s 628ms/step - loss: 2.2983 - accuracy: 0.5237 - val_loss: 2.3113 - val_accuracy: 0.5153\n",
            "Epoch 5/20\n",
            "102/102 [==============================] - 59s 582ms/step - loss: 1.8038 - accuracy: 0.6073 - val_loss: 2.0468 - val_accuracy: 0.5367\n",
            "Epoch 6/20\n",
            "102/102 [==============================] - 60s 585ms/step - loss: 1.4987 - accuracy: 0.6658 - val_loss: 1.8999 - val_accuracy: 0.5765\n",
            "Epoch 7/20\n",
            "102/102 [==============================] - 60s 591ms/step - loss: 1.3075 - accuracy: 0.6957 - val_loss: 1.8063 - val_accuracy: 0.5826\n",
            "Epoch 8/20\n",
            "102/102 [==============================] - 59s 580ms/step - loss: 1.1686 - accuracy: 0.7205 - val_loss: 1.7477 - val_accuracy: 0.5856\n",
            "Epoch 9/20\n",
            "102/102 [==============================] - 59s 578ms/step - loss: 1.0570 - accuracy: 0.7428 - val_loss: 1.7088 - val_accuracy: 0.5887\n",
            "Epoch 10/20\n",
            "102/102 [==============================] - 62s 609ms/step - loss: 0.9749 - accuracy: 0.7588 - val_loss: 1.6649 - val_accuracy: 0.6040\n",
            "Epoch 11/20\n",
            "102/102 [==============================] - 58s 573ms/step - loss: 0.8921 - accuracy: 0.7775 - val_loss: 1.6538 - val_accuracy: 0.6101\n",
            "Epoch 12/20\n",
            "102/102 [==============================] - 62s 606ms/step - loss: 0.8281 - accuracy: 0.7825 - val_loss: 1.6394 - val_accuracy: 0.6147\n",
            "Epoch 13/20\n",
            "102/102 [==============================] - 63s 621ms/step - loss: 0.7711 - accuracy: 0.8026 - val_loss: 1.6353 - val_accuracy: 0.6116\n",
            "Epoch 14/20\n",
            "102/102 [==============================] - 59s 583ms/step - loss: 0.7222 - accuracy: 0.8142 - val_loss: 1.6276 - val_accuracy: 0.6055\n",
            "Epoch 15/20\n",
            "102/102 [==============================] - 59s 582ms/step - loss: 0.6800 - accuracy: 0.8155 - val_loss: 1.6418 - val_accuracy: 0.6116\n",
            "Epoch 16/20\n",
            "102/102 [==============================] - 59s 581ms/step - loss: 0.6333 - accuracy: 0.8315 - val_loss: 1.6589 - val_accuracy: 0.6162\n",
            "Epoch 17/20\n",
            "102/102 [==============================] - 63s 615ms/step - loss: 0.6041 - accuracy: 0.8389 - val_loss: 1.6413 - val_accuracy: 0.6101\n",
            "Epoch 18/20\n",
            "102/102 [==============================] - 59s 582ms/step - loss: 0.5580 - accuracy: 0.8495 - val_loss: 1.6462 - val_accuracy: 0.6055\n",
            "Epoch 19/20\n",
            "102/102 [==============================] - 64s 626ms/step - loss: 0.5338 - accuracy: 0.8579 - val_loss: 1.6686 - val_accuracy: 0.6070\n",
            "Epoch 20/20\n",
            "102/102 [==============================] - 59s 584ms/step - loss: 0.5076 - accuracy: 0.8634 - val_loss: 1.6813 - val_accuracy: 0.5933\n"
          ]
        },
        {
          "output_type": "execute_result",
          "data": {
            "text/plain": [
              "<keras.callbacks.History at 0x7f3b8ebc3df0>"
            ]
          },
          "metadata": {},
          "execution_count": 39
        }
      ]
    },
    {
      "cell_type": "code",
      "source": [],
      "metadata": {
        "id": "vObSkqWumhBn"
      },
      "execution_count": null,
      "outputs": []
    },
    {
      "cell_type": "markdown",
      "source": [
        "# Submission"
      ],
      "metadata": {
        "id": "e0Cv1ZLAM9VB"
      }
    },
    {
      "cell_type": "code",
      "source": [
        "# Pipeline\n",
        "def pipeline(X, Encoder, Classifier):\n",
        "  # Preprocess\n",
        "  X_test = []\n",
        "  for text in X:\n",
        "      X_test.append(\" \".join(process_text(text, eng_ner, thai_ner)))\n",
        "\n",
        "  # Text Encoder\n",
        "  enc_X_test = Encoder(X_test)\n",
        "\n",
        "  # Classifier\n",
        "  y_pred = model.predict(enc_X_test)\n",
        "\n",
        "  return y_pred"
      ],
      "metadata": {
        "id": "GrN_4j5gNDVL"
      },
      "execution_count": 36,
      "outputs": []
    },
    {
      "cell_type": "code",
      "source": [
        "# Load Model\n",
        "model_name = 'lgr_Oc_lbfg_c008'\n",
        "model = joblib.load(f'{model_name}.joblib')\n",
        "\n",
        "# Prediction\n",
        "test_df = pd.read_csv(\"test_for_submission.csv\")\n",
        "X_test = test_df.job_title\n",
        "y_pred = pipeline(X=X_test, Encoder=batch_feed, Classifier=model)"
      ],
      "metadata": {
        "id": "hQmsKt50OC7p"
      },
      "execution_count": 36,
      "outputs": []
    },
    {
      "cell_type": "code",
      "source": [
        "# Save prediction in submission format\n",
        "df = pd.Series(y_pred, name='Predicted')\n",
        "df.index.name = 'Id'\n",
        "df.to_csv(f\"{model_name}_submission.csv\")"
      ],
      "metadata": {
        "id": "uh4fflm1NKmy"
      },
      "execution_count": 37,
      "outputs": []
    },
    {
      "cell_type": "code",
      "source": [],
      "metadata": {
        "id": "UGtT5k5XTJVv"
      },
      "execution_count": null,
      "outputs": []
    },
    {
      "cell_type": "markdown",
      "source": [
        "---"
      ],
      "metadata": {
        "id": "7_Yl4X_HTN1S"
      }
    }
  ]
}